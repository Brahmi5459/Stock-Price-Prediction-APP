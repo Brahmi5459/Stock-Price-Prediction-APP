{
 "cells": [
  {
   "cell_type": "code",
   "execution_count": 1,
   "id": "53e95856",
   "metadata": {},
   "outputs": [
    {
     "name": "stdout",
     "output_type": "stream",
     "text": [
      "Overwriting Stock.py\n"
     ]
    }
   ],
   "source": [
    "%%writefile Stock.py\n",
    "  \n",
    "# Streamlit app\n",
    "def main():\n",
    "    st.title('Stock Price Prediction App')\n",
    "    ticker = st.text_input(\"Enter the company's ticker name:\")\n",
    "    \n",
    "    if st.button('Predict Stock Prices'):\n",
    "        start_date = pd.Timestamp.now() - pd.Timedelta(days=365)  # 1 year of historical data\n",
    "        end_date = pd.Timestamp.now() - pd.Timedelta(days=1)  # Yesterday's date\n",
    "\n",
    "        # Download stock data\n",
    "        stock_data = download_stock_data(ticker, start_date, end_date)\n",
    "        if stock_data is None:\n",
    "            st.error(f\"Failed to download data for {ticker}. Please enter a valid company ticker.\")\n",
    "            return\n",
    "\n",
    "        # Preprocess data\n",
    "        scaled_data, scaler = preprocess_data(stock_data)\n",
    "        if scaled_data is None or scaler is None:\n",
    "            st.error(\"Failed to preprocess data. Please try again.\")\n",
    "            return\n",
    "\n",
    "        # Prepare training data\n",
    "        x_train, y_train = prepare_training_data(scaled_data)\n",
    "        if x_train is None or y_train is None:\n",
    "            st.error(\"Failed to prepare training data. Please try again.\")\n",
    "            return\n",
    "\n",
    "        # Train LSTM model\n",
    "        st.subheader(f\"{ticker} Stocks\")\n",
    "        model = train_lstm_model(x_train, y_train)\n",
    "        if model is None:\n",
    "            st.error(\"Failed to train the model. Please try again.\")\n",
    "            return\n",
    "\n",
    "        # Predict stock price for the next 30 days\n",
    "        predictions, dates = predict_stock_price(model, scaled_data, scaler)\n",
    "\n",
    "        # Visualize stock prices\n",
    "        st.subheader(\"Stock Prices and Predictions\")\n",
    "        plt.figure(figsize=(12, 6))\n",
    "        plt.plot(stock_data.index, stock_data['Close'], label='Actual Price', color='blue')\n",
    "        plt.plot(dates, predictions, label='Predicted Price', color='red', linestyle='--', marker='o')\n",
    "        plt.title(\"Stock Prices and Predictions\")\n",
    "        plt.xlabel(\"Date\")\n",
    "        plt.ylabel(\"Price\")\n",
    "        plt.legend()\n",
    "        plt.grid(True)\n",
    "        st.pyplot(plt)\n",
    "\n",
    "        # Print predicted closing prices for the next 30 days\n",
    "        st.subheader(\"Predicted closing prices for the next 30 days:\")\n",
    "        for i, (price, date) in enumerate(zip(predictions, dates)):\n",
    "            st.write(f\"Day {i+1}: {price[0]} - {date.date()}\")\n",
    "\n",
    "if __name__ == \"__main__\":\n",
    "    main()\n"
   ]
  },
  {
   "cell_type": "code",
   "execution_count": null,
   "id": "a930a10f",
   "metadata": {},
   "outputs": [],
   "source": []
  }
 ],
 "metadata": {
  "kernelspec": {
   "display_name": "Python 3 (ipykernel)",
   "language": "python",
   "name": "python3"
  },
  "language_info": {
   "codemirror_mode": {
    "name": "ipython",
    "version": 3
   },
   "file_extension": ".py",
   "mimetype": "text/x-python",
   "name": "python",
   "nbconvert_exporter": "python",
   "pygments_lexer": "ipython3",
   "version": "3.9.12"
  }
 },
 "nbformat": 4,
 "nbformat_minor": 5
}
